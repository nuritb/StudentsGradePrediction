{
  "nbformat": 4,
  "nbformat_minor": 0,
  "metadata": {
    "colab": {
      "name": "Deep learning exe2.ipynb",
      "provenance": [],
      "collapsed_sections": [],
      "include_colab_link": true
    },
    "kernelspec": {
      "name": "python3",
      "display_name": "Python 3"
    },
    "accelerator": "GPU"
  },
  "cells": [
    {
      "cell_type": "markdown",
      "metadata": {
        "id": "view-in-github",
        "colab_type": "text"
      },
      "source": [
        "<a href=\"https://colab.research.google.com/github/nuritb/StudentsGradePrediction/blob/master/Deep_learning_exe2.ipynb\" target=\"_parent\"><img src=\"https://colab.research.google.com/assets/colab-badge.svg\" alt=\"Open In Colab\"/></a>"
      ]
    },
    {
      "cell_type": "markdown",
      "metadata": {
        "id": "BWeXoCUtvbsB",
        "colab_type": "text"
      },
      "source": [
        "# Student grade prediction\n",
        "A machine learning project by Nurit Biber & Amir Ofir\n",
        "\n",
        "Dataset is available at https://www.kaggle.com/dipam7/student-grade-prediction \\\n",
        "(Direct download @ https://cutt.ly/me6hvg3)"
      ]
    },
    {
      "cell_type": "code",
      "metadata": {
        "id": "2ZZEffLKa0dZ",
        "colab_type": "code",
        "colab": {}
      },
      "source": [
        "import pandas as pd"
      ],
      "execution_count": 0,
      "outputs": []
    },
    {
      "cell_type": "code",
      "metadata": {
        "id": "DYRX7sCfbA7A",
        "colab_type": "code",
        "outputId": "6b48f51b-fc98-4cd5-9db9-c9a449152b17",
        "colab": {
          "resources": {
            "http://localhost:8080/nbextensions/google.colab/files.js": {
              "data": "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",
              "ok": true,
              "headers": [
                [
                  "content-type",
                  "application/javascript"
                ]
              ],
              "status": 200,
              "status_text": ""
            }
          },
          "base_uri": "https://localhost:8080/",
          "height": 74
        }
      },
      "source": [
        "from google.colab import files\n",
        "uploaded = files.upload()"
      ],
      "execution_count": 0,
      "outputs": [
        {
          "output_type": "display_data",
          "data": {
            "text/html": [
              "\n",
              "     <input type=\"file\" id=\"files-9bc8ea19-f696-4331-920c-7e256bd0c274\" name=\"files[]\" multiple disabled />\n",
              "     <output id=\"result-9bc8ea19-f696-4331-920c-7e256bd0c274\">\n",
              "      Upload widget is only available when the cell has been executed in the\n",
              "      current browser session. Please rerun this cell to enable.\n",
              "      </output>\n",
              "      <script src=\"/nbextensions/google.colab/files.js\"></script> "
            ],
            "text/plain": [
              "<IPython.core.display.HTML object>"
            ]
          },
          "metadata": {
            "tags": []
          }
        },
        {
          "output_type": "stream",
          "text": [
            "Saving student-mat.csv to student-mat.csv\n"
          ],
          "name": "stdout"
        }
      ]
    },
    {
      "cell_type": "code",
      "metadata": {
        "id": "9aBfe0P-bN92",
        "colab_type": "code",
        "colab": {}
      },
      "source": [
        "import io\n",
        "df = pd.read_csv(io.StringIO(uploaded['student-mat.csv'].decode('utf-8')))"
      ],
      "execution_count": 0,
      "outputs": []
    },
    {
      "cell_type": "code",
      "metadata": {
        "id": "vGdo8Z3Sbp57",
        "colab_type": "code",
        "outputId": "78158710-9688-432d-ef5c-29aa0fb0a199",
        "colab": {
          "base_uri": "https://localhost:8080/",
          "height": 215
        }
      },
      "source": [
        "df.head()"
      ],
      "execution_count": 0,
      "outputs": [
        {
          "output_type": "execute_result",
          "data": {
            "text/html": [
              "<div>\n",
              "<style scoped>\n",
              "    .dataframe tbody tr th:only-of-type {\n",
              "        vertical-align: middle;\n",
              "    }\n",
              "\n",
              "    .dataframe tbody tr th {\n",
              "        vertical-align: top;\n",
              "    }\n",
              "\n",
              "    .dataframe thead th {\n",
              "        text-align: right;\n",
              "    }\n",
              "</style>\n",
              "<table border=\"1\" class=\"dataframe\">\n",
              "  <thead>\n",
              "    <tr style=\"text-align: right;\">\n",
              "      <th></th>\n",
              "      <th>school</th>\n",
              "      <th>sex</th>\n",
              "      <th>age</th>\n",
              "      <th>address</th>\n",
              "      <th>famsize</th>\n",
              "      <th>Pstatus</th>\n",
              "      <th>Medu</th>\n",
              "      <th>Fedu</th>\n",
              "      <th>Mjob</th>\n",
              "      <th>Fjob</th>\n",
              "      <th>reason</th>\n",
              "      <th>guardian</th>\n",
              "      <th>traveltime</th>\n",
              "      <th>studytime</th>\n",
              "      <th>failures</th>\n",
              "      <th>schoolsup</th>\n",
              "      <th>famsup</th>\n",
              "      <th>paid</th>\n",
              "      <th>activities</th>\n",
              "      <th>nursery</th>\n",
              "      <th>higher</th>\n",
              "      <th>internet</th>\n",
              "      <th>romantic</th>\n",
              "      <th>famrel</th>\n",
              "      <th>freetime</th>\n",
              "      <th>goout</th>\n",
              "      <th>Dalc</th>\n",
              "      <th>Walc</th>\n",
              "      <th>health</th>\n",
              "      <th>absences</th>\n",
              "      <th>G1</th>\n",
              "      <th>G2</th>\n",
              "      <th>G3</th>\n",
              "    </tr>\n",
              "  </thead>\n",
              "  <tbody>\n",
              "    <tr>\n",
              "      <th>0</th>\n",
              "      <td>GP</td>\n",
              "      <td>F</td>\n",
              "      <td>18</td>\n",
              "      <td>U</td>\n",
              "      <td>GT3</td>\n",
              "      <td>A</td>\n",
              "      <td>4</td>\n",
              "      <td>4</td>\n",
              "      <td>at_home</td>\n",
              "      <td>teacher</td>\n",
              "      <td>course</td>\n",
              "      <td>mother</td>\n",
              "      <td>2</td>\n",
              "      <td>2</td>\n",
              "      <td>0</td>\n",
              "      <td>yes</td>\n",
              "      <td>no</td>\n",
              "      <td>no</td>\n",
              "      <td>no</td>\n",
              "      <td>yes</td>\n",
              "      <td>yes</td>\n",
              "      <td>no</td>\n",
              "      <td>no</td>\n",
              "      <td>4</td>\n",
              "      <td>3</td>\n",
              "      <td>4</td>\n",
              "      <td>1</td>\n",
              "      <td>1</td>\n",
              "      <td>3</td>\n",
              "      <td>6</td>\n",
              "      <td>5</td>\n",
              "      <td>6</td>\n",
              "      <td>6</td>\n",
              "    </tr>\n",
              "    <tr>\n",
              "      <th>1</th>\n",
              "      <td>GP</td>\n",
              "      <td>F</td>\n",
              "      <td>17</td>\n",
              "      <td>U</td>\n",
              "      <td>GT3</td>\n",
              "      <td>T</td>\n",
              "      <td>1</td>\n",
              "      <td>1</td>\n",
              "      <td>at_home</td>\n",
              "      <td>other</td>\n",
              "      <td>course</td>\n",
              "      <td>father</td>\n",
              "      <td>1</td>\n",
              "      <td>2</td>\n",
              "      <td>0</td>\n",
              "      <td>no</td>\n",
              "      <td>yes</td>\n",
              "      <td>no</td>\n",
              "      <td>no</td>\n",
              "      <td>no</td>\n",
              "      <td>yes</td>\n",
              "      <td>yes</td>\n",
              "      <td>no</td>\n",
              "      <td>5</td>\n",
              "      <td>3</td>\n",
              "      <td>3</td>\n",
              "      <td>1</td>\n",
              "      <td>1</td>\n",
              "      <td>3</td>\n",
              "      <td>4</td>\n",
              "      <td>5</td>\n",
              "      <td>5</td>\n",
              "      <td>6</td>\n",
              "    </tr>\n",
              "    <tr>\n",
              "      <th>2</th>\n",
              "      <td>GP</td>\n",
              "      <td>F</td>\n",
              "      <td>15</td>\n",
              "      <td>U</td>\n",
              "      <td>LE3</td>\n",
              "      <td>T</td>\n",
              "      <td>1</td>\n",
              "      <td>1</td>\n",
              "      <td>at_home</td>\n",
              "      <td>other</td>\n",
              "      <td>other</td>\n",
              "      <td>mother</td>\n",
              "      <td>1</td>\n",
              "      <td>2</td>\n",
              "      <td>3</td>\n",
              "      <td>yes</td>\n",
              "      <td>no</td>\n",
              "      <td>yes</td>\n",
              "      <td>no</td>\n",
              "      <td>yes</td>\n",
              "      <td>yes</td>\n",
              "      <td>yes</td>\n",
              "      <td>no</td>\n",
              "      <td>4</td>\n",
              "      <td>3</td>\n",
              "      <td>2</td>\n",
              "      <td>2</td>\n",
              "      <td>3</td>\n",
              "      <td>3</td>\n",
              "      <td>10</td>\n",
              "      <td>7</td>\n",
              "      <td>8</td>\n",
              "      <td>10</td>\n",
              "    </tr>\n",
              "    <tr>\n",
              "      <th>3</th>\n",
              "      <td>GP</td>\n",
              "      <td>F</td>\n",
              "      <td>15</td>\n",
              "      <td>U</td>\n",
              "      <td>GT3</td>\n",
              "      <td>T</td>\n",
              "      <td>4</td>\n",
              "      <td>2</td>\n",
              "      <td>health</td>\n",
              "      <td>services</td>\n",
              "      <td>home</td>\n",
              "      <td>mother</td>\n",
              "      <td>1</td>\n",
              "      <td>3</td>\n",
              "      <td>0</td>\n",
              "      <td>no</td>\n",
              "      <td>yes</td>\n",
              "      <td>yes</td>\n",
              "      <td>yes</td>\n",
              "      <td>yes</td>\n",
              "      <td>yes</td>\n",
              "      <td>yes</td>\n",
              "      <td>yes</td>\n",
              "      <td>3</td>\n",
              "      <td>2</td>\n",
              "      <td>2</td>\n",
              "      <td>1</td>\n",
              "      <td>1</td>\n",
              "      <td>5</td>\n",
              "      <td>2</td>\n",
              "      <td>15</td>\n",
              "      <td>14</td>\n",
              "      <td>15</td>\n",
              "    </tr>\n",
              "    <tr>\n",
              "      <th>4</th>\n",
              "      <td>GP</td>\n",
              "      <td>F</td>\n",
              "      <td>16</td>\n",
              "      <td>U</td>\n",
              "      <td>GT3</td>\n",
              "      <td>T</td>\n",
              "      <td>3</td>\n",
              "      <td>3</td>\n",
              "      <td>other</td>\n",
              "      <td>other</td>\n",
              "      <td>home</td>\n",
              "      <td>father</td>\n",
              "      <td>1</td>\n",
              "      <td>2</td>\n",
              "      <td>0</td>\n",
              "      <td>no</td>\n",
              "      <td>yes</td>\n",
              "      <td>yes</td>\n",
              "      <td>no</td>\n",
              "      <td>yes</td>\n",
              "      <td>yes</td>\n",
              "      <td>no</td>\n",
              "      <td>no</td>\n",
              "      <td>4</td>\n",
              "      <td>3</td>\n",
              "      <td>2</td>\n",
              "      <td>1</td>\n",
              "      <td>2</td>\n",
              "      <td>5</td>\n",
              "      <td>4</td>\n",
              "      <td>6</td>\n",
              "      <td>10</td>\n",
              "      <td>10</td>\n",
              "    </tr>\n",
              "  </tbody>\n",
              "</table>\n",
              "</div>"
            ],
            "text/plain": [
              "  school sex  age address famsize Pstatus  ...  Walc  health absences  G1  G2  G3\n",
              "0     GP   F   18       U     GT3       A  ...     1       3        6   5   6   6\n",
              "1     GP   F   17       U     GT3       T  ...     1       3        4   5   5   6\n",
              "2     GP   F   15       U     LE3       T  ...     3       3       10   7   8  10\n",
              "3     GP   F   15       U     GT3       T  ...     1       5        2  15  14  15\n",
              "4     GP   F   16       U     GT3       T  ...     2       5        4   6  10  10\n",
              "\n",
              "[5 rows x 33 columns]"
            ]
          },
          "metadata": {
            "tags": []
          },
          "execution_count": 4
        }
      ]
    },
    {
      "cell_type": "code",
      "metadata": {
        "id": "0w0-Rv-6gBDa",
        "colab_type": "code",
        "outputId": "730d2c8c-00bf-40e1-8302-16e714b92577",
        "colab": {
          "base_uri": "https://localhost:8080/",
          "height": 612
        }
      },
      "source": [
        "columns  = df.columns;\n",
        "for coloumn in columns :\n",
        "    if (not str(df[coloumn].dtype).startswith(\"int\")):\n",
        "            print(\"Coloum Name:\",coloumn, \", Type:\", df[coloumn].dtype, \", Unique values:\", df[coloumn].unique(), \"\\n\")\n",
        "            values = df[coloumn].unique()\n",
        "            convertor = dict(zip(values,range(len(values))))\n",
        "            df[coloumn] = [convertor[item] for item in df[coloumn]]\n",
        "\n",
        "print(\"Total:\", len(df.columns), \"Columns\")"
      ],
      "execution_count": 0,
      "outputs": [
        {
          "output_type": "stream",
          "text": [
            "Coloum Name: school , Type: object , Unique values: ['GP' 'MS'] \n",
            "\n",
            "Coloum Name: sex , Type: object , Unique values: ['F' 'M'] \n",
            "\n",
            "Coloum Name: address , Type: object , Unique values: ['U' 'R'] \n",
            "\n",
            "Coloum Name: famsize , Type: object , Unique values: ['GT3' 'LE3'] \n",
            "\n",
            "Coloum Name: Pstatus , Type: object , Unique values: ['A' 'T'] \n",
            "\n",
            "Coloum Name: Mjob , Type: object , Unique values: ['at_home' 'health' 'other' 'services' 'teacher'] \n",
            "\n",
            "Coloum Name: Fjob , Type: object , Unique values: ['teacher' 'other' 'services' 'health' 'at_home'] \n",
            "\n",
            "Coloum Name: reason , Type: object , Unique values: ['course' 'other' 'home' 'reputation'] \n",
            "\n",
            "Coloum Name: guardian , Type: object , Unique values: ['mother' 'father' 'other'] \n",
            "\n",
            "Coloum Name: schoolsup , Type: object , Unique values: ['yes' 'no'] \n",
            "\n",
            "Coloum Name: famsup , Type: object , Unique values: ['no' 'yes'] \n",
            "\n",
            "Coloum Name: paid , Type: object , Unique values: ['no' 'yes'] \n",
            "\n",
            "Coloum Name: activities , Type: object , Unique values: ['no' 'yes'] \n",
            "\n",
            "Coloum Name: nursery , Type: object , Unique values: ['yes' 'no'] \n",
            "\n",
            "Coloum Name: higher , Type: object , Unique values: ['yes' 'no'] \n",
            "\n",
            "Coloum Name: internet , Type: object , Unique values: ['no' 'yes'] \n",
            "\n",
            "Coloum Name: romantic , Type: object , Unique values: ['no' 'yes'] \n",
            "\n",
            "Total: 33 Columns\n"
          ],
          "name": "stdout"
        }
      ]
    },
    {
      "cell_type": "code",
      "metadata": {
        "id": "NZfvAI6-ayq2",
        "colab_type": "code",
        "outputId": "90f87170-f720-4f48-cf2a-0efc70233cb6",
        "colab": {
          "base_uri": "https://localhost:8080/",
          "height": 476
        }
      },
      "source": [
        "import numpy as np\n",
        "from sklearn.model_selection import train_test_split\n",
        "\n",
        "y = np.asarray([df.G3]).T\n",
        "X = df.drop('G3', axis=1)\n",
        "\n",
        "X_train, X_test, y_train, y_test = train_test_split(X, y,test_size=0.2)\n",
        "print(\"X_train:\")\n",
        "print(X_train.head())\n",
        "print(X_train.shape)\n",
        "\n",
        "print(\"\\nX_test:\")\n",
        "print(X_test.head())\n",
        "print(X_test.shape)\n",
        "\n",
        "print(\"\\ny_train:\")\n",
        "# print(y_train.head)\n",
        "print(y_train.shape)\n",
        "\n",
        "print(\"\\ny_test:\")\n",
        "# print(y_test.head())\n",
        "print(y_test.shape)"
      ],
      "execution_count": 0,
      "outputs": [
        {
          "output_type": "stream",
          "text": [
            "X_train:\n",
            "     school  sex  age  address  famsize  ...  Walc  health  absences  G1  G2\n",
            "302       0    0   17        0        0  ...     1       3         0  15  12\n",
            "111       0    0   16        1        0  ...     1       2         0   7  10\n",
            "258       0    1   18        0        0  ...     2       4         8  15  14\n",
            "336       0    0   19        1        0  ...     2       5        12  14  13\n",
            "360       1    0   18        1        1  ...     4       5         0  13  13\n",
            "\n",
            "[5 rows x 32 columns]\n",
            "(316, 32)\n",
            "\n",
            "X_test:\n",
            "     school  sex  age  address  famsize  ...  Walc  health  absences  G1  G2\n",
            "69        0    0   15        1        1  ...     3       3        12  16  16\n",
            "288       0    1   18        0        0  ...     3       2         6  15  14\n",
            "27        0    1   15        0        0  ...     4       1         4  15  16\n",
            "385       1    0   18        1        0  ...     3       4         2  10   9\n",
            "151       0    1   16        0        1  ...     5       5         6  12  13\n",
            "\n",
            "[5 rows x 32 columns]\n",
            "(79, 32)\n",
            "\n",
            "y_train:\n",
            "(316, 1)\n",
            "\n",
            "y_test:\n",
            "(79, 1)\n"
          ],
          "name": "stdout"
        }
      ]
    },
    {
      "cell_type": "code",
      "metadata": {
        "id": "RWVAspMukIiq",
        "colab_type": "code",
        "outputId": "a782852e-a7a2-4feb-da83-c37f06b88cc2",
        "colab": {
          "base_uri": "https://localhost:8080/",
          "height": 102
        }
      },
      "source": [
        "%tensorflow_version '1.x' # <-- This ensures that colab will use 1.x version and more important will disable the annoying notificatoin massage\n",
        "import tensorflow as tf"
      ],
      "execution_count": 0,
      "outputs": [
        {
          "output_type": "stream",
          "text": [
            "Unknown TensorFlow version: '1.x' # <-- This ensures that colab will use 1.x version and more important will disable the annoying notificatoin massage\n",
            "Currently selected TF version: 1.x\n",
            "Available versions:\n",
            " * 1.x\n",
            " * 2.x\n"
          ],
          "name": "stdout"
        }
      ]
    },
    {
      "cell_type": "markdown",
      "metadata": {
        "id": "tAuX8cKRckjn",
        "colab_type": "text"
      },
      "source": [
        "## Linear Regression with BGD"
      ]
    },
    {
      "cell_type": "markdown",
      "metadata": {
        "id": "vrOfbJfw1giv",
        "colab_type": "text"
      },
      "source": [
        "\n",
        "**First attempt:** \\\n",
        "Starting with basic code,\\\n",
        "learning rate decay - tried to find the starting point\n",
        "learning rate 0.001\n",
        "**Loss** is 3.1772747 for 100000 epochs, (lambda is 000.1)\n",
        "\n",
        "for 500000 the Loss is 3.1754684 - NOT GOOD ENOUGHT!\n"
      ]
    },
    {
      "cell_type": "code",
      "metadata": {
        "id": "5ijRUtEpcAPM",
        "colab_type": "code",
        "outputId": "50bd9d73-55ed-4e1f-dd35-f04f82b3609e",
        "colab": {
          "base_uri": "https://localhost:8080/",
          "height": 1000
        }
      },
      "source": [
        "features = len(df.columns) -1\n",
        "x = tf.placeholder(tf.float32, [None, features])\n",
        "y_ = tf.placeholder(tf.float32, [None, 1])\n",
        "W = tf.Variable(tf.zeros([features,1]))\n",
        "b = tf.Variable(tf.zeros([1]))\n",
        "y = tf.matmul(x,W) + b\n",
        "loss = tf.reduce_mean(tf.pow(y - y_, 2))\n",
        "learning_rate = tf.placeholder(tf.float32, [])\n",
        "update = tf.train.GradientDescentOptimizer(learning_rate=learning_rate).minimize(loss)\n",
        "data_x = np.array(X_train)\n",
        "data_y = np.array(y_train)\n",
        "sess = tf.Session()\n",
        "sess.run(tf.global_variables_initializer())\n",
        "\n",
        "lr = 1e-2\n",
        "print(lr)\n",
        "for i in range(0,100):\n",
        "    sess.run(update, feed_dict = {x:data_x, y_:data_y, learning_rate: 0.001})\n",
        "    print('Iteration:' , i , ' b:' , sess.run(b), ' loss:', loss.eval(session=sess, feed_dict = {x:data_x, y_:data_y}))\n",
        "    if i % 100 == 0:\n",
        "      print('Iteration:' , i , ' b:' , sess.run(b), ' loss:', loss.eval(session=sess, feed_dict = {x:data_x, y_:data_y}))"
      ],
      "execution_count": 0,
      "outputs": [
        {
          "output_type": "stream",
          "text": [
            "0.01\n",
            "Iteration: 0  b: [0.02047469]  loss: 22.256939\n",
            "Iteration: 0  b: [0.02047469]  loss: 22.256939\n",
            "Iteration: 1  b: [0.0139609]  loss: 12.945576\n",
            "Iteration: 2  b: [0.01531774]  loss: 11.654801\n",
            "Iteration: 3  b: [0.01437487]  loss: 11.103488\n",
            "Iteration: 4  b: [0.01410293]  loss: 10.660964\n",
            "Iteration: 5  b: [0.0136371]  loss: 10.265457\n",
            "Iteration: 6  b: [0.01323155]  loss: 9.905498\n",
            "Iteration: 7  b: [0.01281358]  loss: 9.575287\n",
            "Iteration: 8  b: [0.01240562]  loss: 9.270562\n",
            "Iteration: 9  b: [0.01200214]  loss: 8.987984\n",
            "Iteration: 10  b: [0.01160556]  loss: 8.724891\n",
            "Iteration: 11  b: [0.01121582]  loss: 8.479133\n",
            "Iteration: 12  b: [0.01083347]  loss: 8.248959\n",
            "Iteration: 13  b: [0.01045873]  loss: 8.032912\n",
            "Iteration: 14  b: [0.01009185]  loss: 7.829774\n",
            "Iteration: 15  b: [0.00973295]  loss: 7.6385\n",
            "Iteration: 16  b: [0.00938214]  loss: 7.458196\n",
            "Iteration: 17  b: [0.00903947]  loss: 7.2880745\n",
            "Iteration: 18  b: [0.00870494]  loss: 7.127443\n",
            "Iteration: 19  b: [0.00837855]  loss: 6.9756756\n",
            "Iteration: 20  b: [0.00806022]  loss: 6.8322153\n",
            "Iteration: 21  b: [0.00774991]  loss: 6.6965504\n",
            "Iteration: 22  b: [0.00744751]  loss: 6.5682125\n",
            "Iteration: 23  b: [0.00715291]  loss: 6.446769\n",
            "Iteration: 24  b: [0.00686601]  loss: 6.3318233\n",
            "Iteration: 25  b: [0.00658666]  loss: 6.223002\n",
            "Iteration: 26  b: [0.00631475]  loss: 6.11996\n",
            "Iteration: 27  b: [0.00605011]  loss: 6.022369\n",
            "Iteration: 28  b: [0.00579261]  loss: 5.9299283\n",
            "Iteration: 29  b: [0.0055421]  loss: 5.842352\n",
            "Iteration: 30  b: [0.00529841]  loss: 5.75937\n",
            "Iteration: 31  b: [0.00506141]  loss: 5.680732\n",
            "Iteration: 32  b: [0.00483092]  loss: 5.6061954\n",
            "Iteration: 33  b: [0.00460681]  loss: 5.5355396\n",
            "Iteration: 34  b: [0.0043889]  loss: 5.4685516\n",
            "Iteration: 35  b: [0.00417706]  loss: 5.4050317\n",
            "Iteration: 36  b: [0.00397113]  loss: 5.3447905\n",
            "Iteration: 37  b: [0.00377096]  loss: 5.2876487\n",
            "Iteration: 38  b: [0.0035764]  loss: 5.233438\n",
            "Iteration: 39  b: [0.00338731]  loss: 5.1820016\n",
            "Iteration: 40  b: [0.00320354]  loss: 5.133187\n",
            "Iteration: 41  b: [0.00302497]  loss: 5.086852\n",
            "Iteration: 42  b: [0.00285144]  loss: 5.0428634\n",
            "Iteration: 43  b: [0.00268282]  loss: 5.0010934\n",
            "Iteration: 44  b: [0.00251899]  loss: 4.961423\n",
            "Iteration: 45  b: [0.00235982]  loss: 4.923738\n",
            "Iteration: 46  b: [0.00220518]  loss: 4.887931\n",
            "Iteration: 47  b: [0.00205494]  loss: 4.8539004\n",
            "Iteration: 48  b: [0.001909]  loss: 4.8215513\n",
            "Iteration: 49  b: [0.00176722]  loss: 4.7907925\n",
            "Iteration: 50  b: [0.00162951]  loss: 4.7615385\n",
            "Iteration: 51  b: [0.00149574]  loss: 4.733709\n",
            "Iteration: 52  b: [0.00136581]  loss: 4.7072253\n",
            "Iteration: 53  b: [0.00123962]  loss: 4.682018\n",
            "Iteration: 54  b: [0.00111706]  loss: 4.6580153\n",
            "Iteration: 55  b: [0.00099803]  loss: 4.635156\n",
            "Iteration: 56  b: [0.00088243]  loss: 4.6133776\n",
            "Iteration: 57  b: [0.00077018]  loss: 4.592621\n",
            "Iteration: 58  b: [0.00066117]  loss: 4.572832\n",
            "Iteration: 59  b: [0.00055533]  loss: 4.5539603\n",
            "Iteration: 60  b: [0.00045255]  loss: 4.5359554\n",
            "Iteration: 61  b: [0.00035276]  loss: 4.5187726\n",
            "Iteration: 62  b: [0.00025588]  loss: 4.502367\n",
            "Iteration: 63  b: [0.00016181]  loss: 4.486697\n",
            "Iteration: 64  b: [7.049629e-05]  loss: 4.4717255\n",
            "Iteration: 65  b: [-1.8150822e-05]  loss: 4.4574137\n",
            "Iteration: 66  b: [-0.0001042]  loss: 4.4437265\n",
            "Iteration: 67  b: [-0.00018773]  loss: 4.4306326\n",
            "Iteration: 68  b: [-0.00026881]  loss: 4.4180994\n",
            "Iteration: 69  b: [-0.0003475]  loss: 4.406097\n",
            "Iteration: 70  b: [-0.00042387]  loss: 4.3945994\n",
            "Iteration: 71  b: [-0.00049799]  loss: 4.3835783\n",
            "Iteration: 72  b: [-0.00056991]  loss: 4.373009\n",
            "Iteration: 73  b: [-0.00063971]  loss: 4.3628693\n",
            "Iteration: 74  b: [-0.00070743]  loss: 4.3531346\n",
            "Iteration: 75  b: [-0.00077314]  loss: 4.3437862\n",
            "Iteration: 76  b: [-0.00083688]  loss: 4.3348026\n",
            "Iteration: 77  b: [-0.00089873]  loss: 4.3261647\n",
            "Iteration: 78  b: [-0.00095872]  loss: 4.317856\n",
            "Iteration: 79  b: [-0.00101692]  loss: 4.309858\n",
            "Iteration: 80  b: [-0.00107336]  loss: 4.3021555\n",
            "Iteration: 81  b: [-0.0011281]  loss: 4.2947335\n",
            "Iteration: 82  b: [-0.00118119]  loss: 4.2875776\n",
            "Iteration: 83  b: [-0.00123268]  loss: 4.2806745\n",
            "Iteration: 84  b: [-0.0012826]  loss: 4.27401\n",
            "Iteration: 85  b: [-0.001331]  loss: 4.2675743\n",
            "Iteration: 86  b: [-0.00137792]  loss: 4.261354\n",
            "Iteration: 87  b: [-0.00142341]  loss: 4.2553396\n",
            "Iteration: 88  b: [-0.0014675]  loss: 4.24952\n",
            "Iteration: 89  b: [-0.00151023]  loss: 4.243886\n",
            "Iteration: 90  b: [-0.00155165]  loss: 4.2384276\n",
            "Iteration: 91  b: [-0.00159178]  loss: 4.233137\n",
            "Iteration: 92  b: [-0.00163067]  loss: 4.228006\n",
            "Iteration: 93  b: [-0.00166834]  loss: 4.2230263\n",
            "Iteration: 94  b: [-0.00170484]  loss: 4.2181907\n",
            "Iteration: 95  b: [-0.00174019]  loss: 4.2134924\n",
            "Iteration: 96  b: [-0.00177443]  loss: 4.2089243\n",
            "Iteration: 97  b: [-0.00180759]  loss: 4.204481\n",
            "Iteration: 98  b: [-0.00183969]  loss: 4.2001557\n",
            "Iteration: 99  b: [-0.00187077]  loss: 4.195944\n"
          ],
          "name": "stdout"
        }
      ]
    },
    {
      "cell_type": "code",
      "metadata": {
        "id": "pjUehDM59seP",
        "colab_type": "code",
        "colab": {}
      },
      "source": [
        ""
      ],
      "execution_count": 0,
      "outputs": []
    },
    {
      "cell_type": "markdown",
      "metadata": {
        "id": "tLRB4Q1679_M",
        "colab_type": "text"
      },
      "source": [
        "**Second attempt**\\\n",
        "on higher learning rate the loss is nan, it seems due to multiples updates with higher learning rate model parameters values vanishes."
      ]
    },
    {
      "cell_type": "code",
      "metadata": {
        "id": "kKo5aEGH79jj",
        "colab_type": "code",
        "outputId": "552ca3ab-934c-4e66-db3c-8506b47defa5",
        "colab": {
          "base_uri": "https://localhost:8080/",
          "height": 185
        }
      },
      "source": [
        "features = len(df.columns) -1\n",
        "x = tf.placeholder(tf.float32, [None, features])\n",
        "y_ = tf.placeholder(tf.float32, [None, 1])\n",
        "W = tf.Variable(tf.zeros([features,1]))\n",
        "b = tf.Variable(tf.zeros([1]))\n",
        "y = tf.matmul(x,W) + b\n",
        "loss = tf.reduce_mean(tf.pow(y - y_, 2))\n",
        "update = tf.train.GradientDescentOptimizer(0.1).minimize(loss)\n",
        "data_x = np.array(X_train)\n",
        "data_y = np.array(y_train)\n",
        "sess = tf.Session()\n",
        "sess.run(tf.global_variables_initializer())\n",
        "for i in range(0,100000):\n",
        "    sess.run(update, feed_dict = {x:data_x, y_:data_y})\n",
        "    if i % 10000 == 0 :\n",
        "      print('Iteration:' , i , ' b:' , sess.run(b), ' loss:', loss.eval(session=sess, feed_dict = {x:data_x, y_:data_y}))"
      ],
      "execution_count": 0,
      "outputs": [
        {
          "output_type": "stream",
          "text": [
            "Iteration: 0  b: [2.101899]  loss: 1970063.2\n",
            "Iteration: 10000  b: [nan]  loss: nan\n",
            "Iteration: 20000  b: [nan]  loss: nan\n",
            "Iteration: 30000  b: [nan]  loss: nan\n",
            "Iteration: 40000  b: [nan]  loss: nan\n",
            "Iteration: 50000  b: [nan]  loss: nan\n",
            "Iteration: 60000  b: [nan]  loss: nan\n",
            "Iteration: 70000  b: [nan]  loss: nan\n",
            "Iteration: 80000  b: [nan]  loss: nan\n",
            "Iteration: 90000  b: [nan]  loss: nan\n"
          ],
          "name": "stdout"
        }
      ]
    },
    {
      "cell_type": "markdown",
      "metadata": {
        "id": "8decg4NZ1qL8",
        "colab_type": "text"
      },
      "source": [
        "**Third attempt**\\\n",
        "To estimate a large number of parameters, and to penalize some of them because we believe they should have little effect compared to the others.\n",
        "\n",
        "Lasso, or Least Absolute Shrinkage and Selection Operator, is quite similar conceptually to ridge regression. It also adds a penalty for non-zero coefficients, but unlike ridge regression which penalizes sum of squared coefficients (the so-called L2 penalty), lasso penalizes the sum of their absolute values (L1 penalty). As a result, for high values of λ, many coefficients are exactly zeroed under lasso, which is never the case in ridge regression.\n",
        "\n",
        "regularization using Lasso (to eliminate some of your input variable as not contributing to the output.)  - not good, Loss increased by 3.4114296 \n",
        "\n",
        "lambda is 0.1, Loss 3.4114296\n",
        "\n",
        "lambda is 0.05, Loss is 3.248849\n",
        "\n",
        "lambda is 0.01, Loss is 3.0354862\n"
      ]
    },
    {
      "cell_type": "code",
      "metadata": {
        "id": "F6x46Hmz9vtf",
        "colab_type": "code",
        "outputId": "09115d42-4f2f-4061-9d9c-bfb7568e8fe7",
        "colab": {
          "base_uri": "https://localhost:8080/",
          "height": 185
        }
      },
      "source": [
        "features = len(df.columns) -1\n",
        "x = tf.placeholder(tf.float32, [None, features])\n",
        "y_ = tf.placeholder(tf.float32, [None, 1])\n",
        "W = tf.Variable(tf.truncated_normal([features,1]))\n",
        "b = tf.Variable(tf.truncated_normal([1]))\n",
        "y = tf.matmul(x,W) + b\n",
        "lambda_ = 0.005\n",
        "loss = tf.reduce_mean(tf.pow(y - y_, 2)) + lambda_*tf.reduce_sum(tf.abs(W))\n",
        "update = tf.train.GradientDescentOptimizer(0.001).minimize(loss)\n",
        "data_x = np.array(X_train)\n",
        "data_y = np.array(y_train)\n",
        "sess = tf.Session()\n",
        "sess.run(tf.global_variables_initializer())\n",
        "for i in range(0,100000):\n",
        "    sess.run(update, feed_dict = {x:data_x, y_:data_y})\n",
        "    if i % 10000 == 0 :\n",
        "      \n",
        "      print('Iteration:' , i , ' b:' , sess.run(b), ' loss:', loss.eval(session=sess, feed_dict = {x:data_x, y_:data_y}))"
      ],
      "execution_count": 0,
      "outputs": [
        {
          "output_type": "stream",
          "text": [
            "Iteration: 0  b: [1.0410265]  loss: 44.12113\n",
            "Iteration: 10000  b: [0.89799094]  loss: 3.6418567\n",
            "Iteration: 20000  b: [0.85059965]  loss: 3.633956\n",
            "Iteration: 30000  b: [0.8057051]  loss: 3.6335628\n",
            "Iteration: 40000  b: [0.762972]  loss: 3.6333537\n",
            "Iteration: 50000  b: [0.7225077]  loss: 3.633183\n",
            "Iteration: 60000  b: [0.6842745]  loss: 3.6330345\n",
            "Iteration: 70000  b: [0.6481797]  loss: 3.6329024\n",
            "Iteration: 80000  b: [0.6141376]  loss: 3.6327858\n",
            "Iteration: 90000  b: [0.58201844]  loss: 3.6326816\n"
          ],
          "name": "stdout"
        }
      ]
    },
    {
      "cell_type": "markdown",
      "metadata": {
        "id": "E0UrU9be7see",
        "colab_type": "text"
      },
      "source": [
        "**forth attempt**\\\n",
        "regularization using Ridge - it helped! loss is 3.0893621\n",
        "\n",
        "From the discussion so far we have concluded that we would like to decrease the model complexity, that is the number of predictors. We could use the forward or backward selection for this, but that way we would not be able to tell anything about the removed variables' effect on the response. Removing predictors from the model can be seen as settings their coefficients to zero. Instead of forcing them to be exactly zero, let's penalize them if they are too far from zero, thus enforcing them to be small in a continuous way. This way, we decrease model complexity while keeping all variables in the model. This, basically, is what Ridge Regression does."
      ]
    },
    {
      "cell_type": "code",
      "metadata": {
        "id": "o8qqkr_23dkV",
        "colab_type": "code",
        "outputId": "bd97e3ad-d442-459f-f6b6-a7e638996fdd",
        "colab": {
          "base_uri": "https://localhost:8080/",
          "height": 185
        }
      },
      "source": [
        "features = len(df.columns) -1\n",
        "x = tf.placeholder(tf.float32, [None, features])\n",
        "y_ = tf.placeholder(tf.float32, [None, 1])\n",
        "W = tf.Variable(tf.truncated_normal([features,1]))\n",
        "b = tf.Variable(tf.truncated_normal([1]))\n",
        "y = tf.matmul(x,W) + b\n",
        "lambda_ = 0.1\n",
        "loss = tf.reduce_mean(tf.pow(y - y_, 2)) + lambda_*tf.nn.l2_loss(W)\n",
        "update = tf.train.GradientDescentOptimizer(0.001).minimize(loss)\n",
        "data_x = np.array(X_train)\n",
        "data_y = np.array(y_train)\n",
        "sess = tf.Session()\n",
        "sess.run(tf.global_variables_initializer())\n",
        "for i in range(0,100000):\n",
        "    sess.run(update, feed_dict = {x:data_x, y_:data_y})\n",
        "    if i % 10000 == 0 :\n",
        "      print('Iteration:' , i , ' b:' , sess.run(b), ' loss:', loss.eval(session=sess, feed_dict = {x:data_x, y_:data_y}))"
      ],
      "execution_count": 0,
      "outputs": [
        {
          "output_type": "stream",
          "text": [
            "Iteration: 0  b: [-0.14618295]  loss: 262.18884\n",
            "Iteration: 10000  b: [-0.2965457]  loss: 3.2942717\n",
            "Iteration: 20000  b: [-0.35085386]  loss: 3.2916048\n",
            "Iteration: 30000  b: [-0.4014833]  loss: 3.2913098\n",
            "Iteration: 40000  b: [-0.44896874]  loss: 3.2910814\n",
            "Iteration: 50000  b: [-0.49339044]  loss: 3.2908826\n",
            "Iteration: 60000  b: [-0.53491926]  loss: 3.290709\n",
            "Iteration: 70000  b: [-0.5737302]  loss: 3.2905576\n",
            "Iteration: 80000  b: [-0.6100242]  loss: 3.2904248\n",
            "Iteration: 90000  b: [-0.6439457]  loss: 3.290309\n"
          ],
          "name": "stdout"
        }
      ]
    },
    {
      "cell_type": "markdown",
      "metadata": {
        "id": "ZdxMG39L77cV",
        "colab_type": "text"
      },
      "source": [
        "**Fifth attempt**\\\n",
        "Let's decrease lambda from 0.1 to 0.05: Loss is 3.0340056\n",
        "\n",
        "Let's decrease lambda from 0.1 to 0.01: Loss is 2.9808152\n",
        "\n",
        "Let's decrease lambda from 0.1 to 0.005: Loss is 2.9808152\n"
      ]
    },
    {
      "cell_type": "code",
      "metadata": {
        "id": "vKWw3xp87_Fn",
        "colab_type": "code",
        "outputId": "8a3a7542-c3e2-45d5-d2ff-7cc628888cd0",
        "colab": {
          "base_uri": "https://localhost:8080/",
          "height": 185
        }
      },
      "source": [
        "features = len(df.columns) -1\n",
        "x = tf.placeholder(tf.float32, [None, features])\n",
        "y_ = tf.placeholder(tf.float32, [None, 1])\n",
        "W = tf.Variable(tf.truncated_normal([features,1]))\n",
        "b = tf.Variable(tf.truncated_normal([1]))\n",
        "y = tf.matmul(x,W) + b\n",
        "lambda_ = 0.005\n",
        "loss = tf.reduce_mean(tf.pow(y - y_, 2)) + lambda_*tf.nn.l2_loss(W)\n",
        "update = tf.train.GradientDescentOptimizer(0.001).minimize(loss)\n",
        "data_x = np.array(X_train)\n",
        "data_y = np.array(y_train)\n",
        "sess = tf.Session()\n",
        "sess.run(tf.global_variables_initializer())\n",
        "for i in range(0,100000):\n",
        "    sess.run(update, feed_dict = {x:data_x, y_:data_y})\n",
        "    if i % 10000 == 0 :\n",
        "      print('Iteration:' , i , ' b:' , sess.run(b), ' loss:', loss.eval(session=sess, feed_dict = {x:data_x, y_:data_y}))"
      ],
      "execution_count": 0,
      "outputs": [
        {
          "output_type": "stream",
          "text": [
            "Iteration: 0  b: [0.02101899]  loss: 23.407375\n",
            "Iteration: 10000  b: [-0.07375606]  loss: 3.1877348\n",
            "Iteration: 20000  b: [-0.1450135]  loss: 3.1792014\n",
            "Iteration: 30000  b: [-0.21295574]  loss: 3.1776085\n",
            "Iteration: 40000  b: [-0.2779373]  loss: 3.176963\n",
            "Iteration: 50000  b: [-0.33976126]  loss: 3.1765273\n",
            "Iteration: 60000  b: [-0.39832288]  loss: 3.176168\n",
            "Iteration: 70000  b: [-0.45364642]  loss: 3.1758544\n",
            "Iteration: 80000  b: [-0.5058221]  loss: 3.1755779\n",
            "Iteration: 90000  b: [-0.5550226]  loss: 3.175332\n"
          ],
          "name": "stdout"
        }
      ]
    },
    {
      "cell_type": "markdown",
      "metadata": {
        "id": "CIRp8LszLKLI",
        "colab_type": "text"
      },
      "source": [
        "**Neural Network**\n",
        "\n",
        "Adding 1 layer with 10 nodes, learning reate = 0.001, loss = 0.25101364"
      ]
    },
    {
      "cell_type": "code",
      "metadata": {
        "id": "QQIkOr0RLTeP",
        "colab_type": "code",
        "outputId": "320f5684-07a8-4938-9495-37500b27bfee",
        "colab": {
          "base_uri": "https://localhost:8080/",
          "height": 428
        }
      },
      "source": [
        "features = len(df.columns) -1\n",
        "hidden_layer_nodes = 10\n",
        "x = tf.placeholder(tf.float32, [None, features])\n",
        "y_ = tf.placeholder(tf.float32, [None, 1])\n",
        "\n",
        "W1 = tf.Variable(tf.truncated_normal([features,hidden_layer_nodes], stddev=0.1))\n",
        "b1 = tf.Variable(tf.constant(0.1, shape=[hidden_layer_nodes]))\n",
        "z1 = tf.matmul(x,W1) + b1\n",
        "a1 = tf.nn.relu(z1)\n",
        "\n",
        "W2 = tf.Variable(tf.truncated_normal([hidden_layer_nodes,1], stddev=0.1))\n",
        "b2 = tf.Variable(0.)\n",
        "z2 = tf.matmul(a1,W2) + b2\n",
        "y = tf.nn.relu(z2)\n",
        "\n",
        "loss_vector=[]\n",
        "loss = tf.reduce_mean(tf.pow(y - y_, 2))\n",
        "update = tf.train.GradientDescentOptimizer(0.001).minimize(loss)\n",
        "data_x = np.array(X_train)\n",
        "data_y = np.array(y_train)\n",
        "\n",
        "sess = tf.Session()\n",
        "sess.run(tf.global_variables_initializer())\n",
        "for i in range(0,100000):\n",
        "  sess.run(update, feed_dict = {x:data_x, y_:data_y})\n",
        "  if i % 5000 == 0 :\n",
        "    loss_vector.append(loss.eval(session=sess, feed_dict = {x:data_x, y_:data_y}))\n",
        "    print('Iteration:' , i , ' loss:', loss_vector[-1])\n"
      ],
      "execution_count": 0,
      "outputs": [
        {
          "output_type": "stream",
          "text": [
            "WARNING:tensorflow:From /usr/local/lib/python3.6/dist-packages/tensorflow_core/python/ops/math_grad.py:1375: where (from tensorflow.python.ops.array_ops) is deprecated and will be removed in a future version.\n",
            "Instructions for updating:\n",
            "Use tf.where in 2.0, which has the same broadcast rule as np.where\n",
            "Iteration: 0  loss: 94.01231\n",
            "Iteration: 5000  loss: 2.344067\n",
            "Iteration: 10000  loss: 1.1089563\n",
            "Iteration: 15000  loss: 0.7573769\n",
            "Iteration: 20000  loss: 0.55701417\n",
            "Iteration: 25000  loss: 0.44538024\n",
            "Iteration: 30000  loss: 0.39102012\n",
            "Iteration: 35000  loss: 0.35623863\n",
            "Iteration: 40000  loss: 0.35248277\n",
            "Iteration: 45000  loss: 0.33374956\n",
            "Iteration: 50000  loss: 0.3080824\n",
            "Iteration: 55000  loss: 0.29250553\n",
            "Iteration: 60000  loss: 0.32490906\n",
            "Iteration: 65000  loss: 0.30972072\n",
            "Iteration: 70000  loss: 0.28366655\n",
            "Iteration: 75000  loss: 0.29444805\n",
            "Iteration: 80000  loss: 0.27667034\n",
            "Iteration: 85000  loss: 0.2610112\n",
            "Iteration: 90000  loss: 0.27040717\n",
            "Iteration: 95000  loss: 0.25101364\n"
          ],
          "name": "stdout"
        }
      ]
    },
    {
      "cell_type": "markdown",
      "metadata": {
        "id": "hcJrNEf1Dijy",
        "colab_type": "text"
      },
      "source": [
        "**Plot - Loss across the epochs**\n",
        "\n",
        "\n",
        "\n"
      ]
    },
    {
      "cell_type": "code",
      "metadata": {
        "id": "yy16FhYBDiHX",
        "colab_type": "code",
        "outputId": "8b260c7d-2c78-4d96-c9fa-399ea45e86d2",
        "colab": {
          "base_uri": "https://localhost:8080/",
          "height": 295
        }
      },
      "source": [
        "import matplotlib.pyplot as plt\n",
        "\n",
        "plt.plot(np.arange(0, 100000, 5000), loss_vector)\n",
        "plt.axis([0, 100000, 0, 1])\n",
        "plt.title('Loss across ephocs')\n",
        "plt.xlabel('Epochs')\n",
        "plt.ylabel('Loss')\n",
        "plt.show()"
      ],
      "execution_count": 0,
      "outputs": [
        {
          "output_type": "display_data",
          "data": {
            "image/png": "[encoded data removed]",
            "text/plain": [
              "<Figure size 432x288 with 1 Axes>"
            ]
          },
          "metadata": {
            "tags": []
          }
        }
      ]
    },
    {
      "cell_type": "markdown",
      "metadata": {
        "id": "IzHDpxkXRlkH",
        "colab_type": "text"
      },
      "source": [
        "**Prediction:**"
      ]
    },
    {
      "cell_type": "code",
      "metadata": {
        "id": "pUH7GT4RRoUr",
        "colab_type": "code",
        "outputId": "a0780c73-0b46-4bc2-a590-e6298fc3222a",
        "colab": {
          "base_uri": "https://localhost:8080/",
          "height": 1000
        }
      },
      "source": [
        "test_x = np.array(X_test)\n",
        "test_y = np.array(y_test)\n",
        "test_size = len(test_y)\n",
        "vector_prediction=[]\n",
        "vector_loss = []\n",
        "\n",
        "for i in range(0, test_size):\n",
        "  z1 = np.matmul(test_x[i],sess.run(W1)) + sess.run(b1)\n",
        "  a1 = tf.nn.relu(z1)\n",
        "  z2 = np.matmul(a1.eval(session=sess),sess.run(W2)) + sess.run(b2)\n",
        "  y = tf.nn.relu(z2)\n",
        "\n",
        "  prediction = y.eval(session=sess)[0]\n",
        "  vector_prediction.append(prediction)\n",
        "  vector_loss.append(pow(prediction - test_y[i][0], 2))\n",
        "  print('prediction:', prediction, ', actual: ', test_y[i])"
      ],
      "execution_count": 0,
      "outputs": [
        {
          "output_type": "stream",
          "text": [
            "prediction: 17.17098186415044 , actual:  [16]\n",
            "prediction: 15.284719617419961 , actual:  [14]\n",
            "prediction: 15.472399932449868 , actual:  [15]\n",
            "prediction: 10.119393574428477 , actual:  [10]\n",
            "prediction: 13.11868190485415 , actual:  [14]\n",
            "prediction: 12.136621818235927 , actual:  [13]\n",
            "prediction: 9.835002321637374 , actual:  [10]\n",
            "prediction: 12.234368354904598 , actual:  [10]\n",
            "prediction: 5.352030190692695 , actual:  [6]\n",
            "prediction: 12.030259633493149 , actual:  [13]\n",
            "prediction: 6.384850374966333 , actual:  [6]\n",
            "prediction: 17.528959128201578 , actual:  [18]\n",
            "prediction: 11.430737324315018 , actual:  [10]\n",
            "prediction: 15.772734025956233 , actual:  [15]\n",
            "prediction: 10.40165388038271 , actual:  [11]\n",
            "prediction: 9.260631604225754 , actual:  [8]\n",
            "prediction: 11.894481165613955 , actual:  [11]\n",
            "prediction: 10.519187134201509 , actual:  [11]\n",
            "prediction: 10.416406549400657 , actual:  [9]\n",
            "prediction: 8.80564328017319 , actual:  [0]\n",
            "prediction: 10.127064251317234 , actual:  [10]\n",
            "prediction: 12.285135786392033 , actual:  [13]\n",
            "prediction: 9.175045713214464 , actual:  [7]\n",
            "prediction: 15.285894919513531 , actual:  [14]\n",
            "prediction: 14.357842377424559 , actual:  [14]\n",
            "prediction: 3.681873434578938 , actual:  [7]\n",
            "prediction: 17.071199951294926 , actual:  [15]\n",
            "prediction: 15.913472638633392 , actual:  [17]\n",
            "prediction: 15.02185117937297 , actual:  [15]\n",
            "prediction: 10.135609520722596 , actual:  [9]\n",
            "prediction: 12.424829954427441 , actual:  [13]\n",
            "prediction: 10.486716648774571 , actual:  [9]\n",
            "prediction: 7.265451504129585 , actual:  [8]\n",
            "prediction: 5.154335941737388 , actual:  [6]\n",
            "prediction: 9.510957178675973 , actual:  [9]\n",
            "prediction: 5.188685318680022 , actual:  [6]\n",
            "prediction: 9.761349954066288 , actual:  [10]\n",
            "prediction: 8.795184669798502 , actual:  [6]\n",
            "prediction: 0.0 , actual:  [0]\n",
            "prediction: 14.150427638886443 , actual:  [13]\n",
            "prediction: 13.145263682056662 , actual:  [15]\n",
            "prediction: 14.63330148381505 , actual:  [15]\n",
            "prediction: 13.030481246007467 , actual:  [14]\n",
            "prediction: 13.15890021892893 , actual:  [13]\n",
            "prediction: 11.148499956419332 , actual:  [13]\n",
            "prediction: 0.0 , actual:  [0]\n",
            "prediction: 11.712055033470177 , actual:  [11]\n",
            "prediction: 15.76826729042623 , actual:  [15]\n",
            "prediction: 12.41885889029923 , actual:  [13]\n",
            "prediction: 12.462803459150262 , actual:  [12]\n",
            "prediction: 13.033639419508617 , actual:  [13]\n",
            "prediction: 12.268767855188962 , actual:  [13]\n",
            "prediction: 11.5959932834503 , actual:  [13]\n",
            "prediction: 17.1226906977578 , actual:  [15]\n",
            "prediction: 18.08481201537005 , actual:  [18]\n",
            "prediction: 10.369978092775437 , actual:  [9]\n",
            "prediction: 13.47069408090981 , actual:  [12]\n",
            "prediction: 14.17406930457919 , actual:  [10]\n",
            "prediction: 11.17645431085316 , actual:  [11]\n",
            "prediction: 7.52066182224147 , actual:  [8]\n",
            "prediction: 12.226486052702091 , actual:  [11]\n",
            "prediction: 11.223870181952208 , actual:  [11]\n",
            "prediction: 9.754602651576091 , actual:  [9]\n",
            "prediction: 9.708607753750167 , actual:  [8]\n",
            "prediction: 13.728317547609734 , actual:  [12]\n",
            "prediction: 12.122651296527208 , actual:  [10]\n",
            "prediction: 4.463916022867091 , actual:  [5]\n",
            "prediction: 7.885359983954856 , actual:  [11]\n",
            "prediction: 14.316341886953513 , actual:  [15]\n",
            "prediction: 8.98231996703507 , actual:  [0]\n",
            "prediction: 14.758150417818635 , actual:  [14]\n",
            "prediction: 12.214876500745973 , actual:  [11]\n",
            "prediction: 11.201560559055942 , actual:  [10]\n",
            "prediction: 5.969621792643091 , actual:  [8]\n",
            "prediction: 13.490748607742553 , actual:  [13]\n",
            "prediction: 19.246115773758763 , actual:  [18]\n",
            "prediction: 0.0 , actual:  [0]\n",
            "prediction: 12.393307786251725 , actual:  [11]\n",
            "prediction: 9.165018681976616 , actual:  [10]\n"
          ],
          "name": "stdout"
        }
      ]
    },
    {
      "cell_type": "code",
      "metadata": {
        "id": "qJ45OGibcJLW",
        "colab_type": "code",
        "outputId": "97e7584f-5ac2-4933-ea36-a40e79444885",
        "colab": {
          "base_uri": "https://localhost:8080/",
          "height": 573
        }
      },
      "source": [
        "plt.plot(np.arange(0, test_size, 1), vector_prediction, color='red', label='Prediction')\n",
        "plt.plot(np.arange(0, test_size, 1), test_y, color='blue', label='Actual')\n",
        "plt.title('Prediction vs Actual')\n",
        "plt.xlabel('Student ID')\n",
        "plt.ylabel('Grade')\n",
        "plt.legend(bbox_to_anchor=(1.05, 1), loc='upper left', borderaxespad=0.)\n",
        "plt.show()\n",
        "\n",
        "\n",
        "plt.plot(np.arange(0, test_size, 1), vector_loss)\n",
        "plt.title('Prediction Loss')\n",
        "plt.xlabel('Student ID')\n",
        "plt.ylabel('Loss - squered Error')\n",
        "plt.show()"
      ],
      "execution_count": 0,
      "outputs": [
        {
          "output_type": "display_data",
          "data": {
            "image/png": "[encoded data removed]",
            "text/plain": [
              "<Figure size 432x288 with 1 Axes>"
            ]
          },
          "metadata": {
            "tags": []
          }
        },
        {
          "output_type": "display_data",
          "data": {
            "image/png": "[encoded data removed]",
            "text/plain": [
              "<Figure size 432x288 with 1 Axes>"
            ]
          },
          "metadata": {
            "tags": []
          }
        }
      ]
    }
  ]
}